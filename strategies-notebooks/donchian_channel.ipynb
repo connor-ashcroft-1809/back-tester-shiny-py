{
 "cells": [
  {
   "cell_type": "code",
   "execution_count": 1,
   "metadata": {},
   "outputs": [],
   "source": [
    "# IMPORTING PACKAGES\n",
    "import pandas as pd\n",
    "import pandas_ta as ta\n",
    "import matplotlib.pyplot as plt\n",
    "from termcolor import colored as cl\n",
    "import yfinance as yf\n",
    "import math "
   ]
  },
  {
   "cell_type": "code",
   "execution_count": 2,
   "metadata": {},
   "outputs": [],
   "source": [
    "def add_donchian_channel_indicator(df):\n",
    "    df[['dcl', 'dcm', 'dcu']] = df.ta.donchian(lower_length = 10, upper_length = 10)\n",
    "    df.columns = list(df.columns.str.lower())\n",
    "    df = df.set_index('date')\n",
    "    df.index = pd.to_datetime(df.index)\n",
    "    return df"
   ]
  },
  {
   "cell_type": "code",
   "execution_count": 3,
   "metadata": {},
   "outputs": [],
   "source": [
    "def generate_signals(row):\n",
    "    if row['high'] >= row['dcu']:\n",
    "        return \"buy\"\n",
    "    \n",
    "    elif row['low'] <= row['dcl']:\n",
    "        return \"sell\"\n",
    "    \n",
    "    else:\n",
    "        return \"hold\""
   ]
  },
  {
   "cell_type": "code",
   "execution_count": 4,
   "metadata": {},
   "outputs": [],
   "source": [
    "def generate_signals_dochian_channel_strat(df):\n",
    "    df = add_donchian_channel_indicator(df)\n",
    "    df['signal'] = df.apply(generate_signals,axis=1)\n",
    "    return df"
   ]
  },
  {
   "cell_type": "code",
   "execution_count": 208,
   "metadata": {},
   "outputs": [],
   "source": [
    "def open_long(self,close,date):\n",
    "    self.open = close\n",
    "    self.in_position = 1\n",
    "    self.open_date = date\n",
    "\n",
    "def close_long(self,close,date):\n",
    "    self.close = close\n",
    "    self.equity += self.equity * ((self.close-self.open)/self.open)\n",
    "    self.in_position = 0\n",
    "    self.close_date = date\n",
    "    self.trading_history.append([\"Long\",[self.open_date,self.open],[self.close_date,self.close]])\n",
    "\n",
    "\n",
    "def open_short(self,close,date):\n",
    "    self.open = close\n",
    "    self.in_position = -1\n",
    "    self.open_date = date\n",
    "\n",
    "def close_short(self,close,date):\n",
    "    self.close = close\n",
    "    self.equity +=  self.equity * -((self.close-self.open)/self.open)\n",
    "    self.in_position = 0\n",
    "    self.close_date = date\n",
    "    self.trading_history.append([\"Short\",[self.open_date,self.open],[self.close_date,self.close]])\n",
    "\n",
    "\n",
    "def simulate_trading_(self):\n",
    "    for date, row in self.data.iterrows():\n",
    "\n",
    "        signal = row['signal']\n",
    "        close = row['close']\n",
    "\n",
    "        if signal == \"buy\":\n",
    "\n",
    "            if self.in_position == 0:\n",
    "                open_long(self,close,date)\n",
    "\n",
    "            if self.in_position == -1:\n",
    "                close_short(self,close,date)\n",
    "\n",
    "        elif signal == \"sell\":\n",
    "\n",
    "            if self.in_position == 0:\n",
    "                open_short(self,close,date)\n",
    "\n",
    "            if self.in_position == 1:\n",
    "                close_long(self,close,date)\n",
    "\n",
    "                \n",
    "    \n",
    "    if self.in_position == 1:\n",
    "        close_long(self,close,date)\n",
    "\n",
    "    if self.in_position == -1:\n",
    "        close_short(self,close,date)\n"
   ]
  },
  {
   "cell_type": "code",
   "execution_count": 209,
   "metadata": {},
   "outputs": [],
   "source": [
    "class BaseStrategy:\n",
    "    def __init__(self, data, initial_equity):\n",
    "        self.data = data.copy()\n",
    "        self.equity = initial_equity\n",
    "        self.no_of_shares = 0\n",
    "        self.open = 0\n",
    "        self.close = 0\n",
    "        self.open_date = \"\"\n",
    "        self.close_date = \"\"\n",
    "        self.in_position = 0\n",
    "        self.trading_history = []\n",
    "\n",
    "\n",
    "    def generate_signals(self):\n",
    "        raise NotImplementedError(\"Implement this method in subclasses\")\n",
    "    \n",
    "    def simulate_trading(self):\n",
    "        # 1. Generate buy/sell signals (abstract method, implemented in subclasses)\n",
    "        self.generate_signals()\n",
    "        simulate_trading_(self)\n",
    "\n",
    "class dochian_channel(BaseStrategy):\n",
    "    def generate_signals(self):\n",
    "        self.data = generate_signals_dochian_channel_strat(self.data)"
   ]
  },
  {
   "cell_type": "code",
   "execution_count": 210,
   "metadata": {},
   "outputs": [],
   "source": [
    "def get_data(year,ticker):\n",
    "    start_date = f\"{year}-01-01\" \n",
    "    end_date = f\"{year}-12-30\"\n",
    "    interval = \"1d\"\n",
    "\n",
    "    df = yf.download(ticker, start=start_date, end=end_date, interval=interval, progress=False).reset_index()\n",
    "\n",
    "    return df"
   ]
  },
  {
   "cell_type": "code",
   "execution_count": 226,
   "metadata": {},
   "outputs": [
    {
     "data": {
      "text/plain": [
       "1128.9646945496463"
      ]
     },
     "execution_count": 226,
     "metadata": {},
     "output_type": "execute_result"
    }
   ],
   "source": [
    "ticker = \"GBPJPY=X\"\n",
    "equity = 1000\n",
    "\n",
    "strategy = dochian_channel(get_data(\"2019\",ticker),equity)\n",
    "strategy.simulate_trading()\n",
    "strategy.equity"
   ]
  },
  {
   "cell_type": "code",
   "execution_count": 220,
   "metadata": {},
   "outputs": [
    {
     "data": {
      "text/plain": [
       "1092.5444111804925"
      ]
     },
     "execution_count": 220,
     "metadata": {},
     "output_type": "execute_result"
    }
   ],
   "source": [
    "strategy.equity"
   ]
  },
  {
   "cell_type": "code",
   "execution_count": 199,
   "metadata": {},
   "outputs": [],
   "source": [
    "df = pd.DataFrame(strategy.trading_history)"
   ]
  },
  {
   "cell_type": "code",
   "execution_count": 200,
   "metadata": {},
   "outputs": [],
   "source": [
    "df = pd.DataFrame(strategy.trading_history)\n",
    "df = pd.DataFrame([(i[0],i[1],j[0],j[1],k) for i,j,k in zip(df[1],df[2],df[0])],columns=['Open Date','Open Price','Close Date','Close Price','Type'])\n",
    "\n",
    "df['percentage change'] = (df['Open Price'] - df['Close Price'])/df['Open Price']"
   ]
  },
  {
   "cell_type": "code",
   "execution_count": 201,
   "metadata": {},
   "outputs": [
    {
     "data": {
      "text/plain": [
       "475080.054421586"
      ]
     },
     "execution_count": 201,
     "metadata": {},
     "output_type": "execute_result"
    }
   ],
   "source": [
    "equity = 500000\n",
    "for change_ in [j*-1 if i == \"Short\" else j for i,j in zip(df['Type'],df['percentage change'])]:\n",
    "    equity = equity + equity * change_\n",
    "\n",
    "equity"
   ]
  },
  {
   "cell_type": "code",
   "execution_count": 207,
   "metadata": {},
   "outputs": [
    {
     "data": {
      "text/plain": [
       "485163.97570598806"
      ]
     },
     "execution_count": 207,
     "metadata": {},
     "output_type": "execute_result"
    }
   ],
   "source": [
    "equity = 500000\n",
    "equity += equity * df['percentage change'].sum()\n",
    "equity"
   ]
  }
 ],
 "metadata": {
  "kernelspec": {
   "display_name": "venv",
   "language": "python",
   "name": "python3"
  },
  "language_info": {
   "codemirror_mode": {
    "name": "ipython",
    "version": 3
   },
   "file_extension": ".py",
   "mimetype": "text/x-python",
   "name": "python",
   "nbconvert_exporter": "python",
   "pygments_lexer": "ipython3",
   "version": "3.11.5"
  }
 },
 "nbformat": 4,
 "nbformat_minor": 2
}
